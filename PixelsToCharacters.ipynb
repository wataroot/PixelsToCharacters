{
  "nbformat": 4,
  "nbformat_minor": 0,
  "metadata": {
    "colab": {
      "provenance": []
    },
    "kernelspec": {
      "name": "python3",
      "display_name": "Python 3"
    },
    "language_info": {
      "name": "python"
    }
  },
  "cells": [
    {
      "cell_type": "code",
      "source": [
        "from google.colab import files\n",
        "import cv2\n",
        "import numpy as np\n",
        "import ipywidgets as widgets\n",
        "from PIL import Image, ImageDraw, ImageFont\n",
        "\n",
        "# 画像のアップロードフォームを表示\n",
        "uploaded = files.upload()\n",
        "\n",
        "# アップロードされた画像のファイル名を取得\n",
        "image_filename = next(iter(uploaded))\n",
        "\n",
        "# アップロードされた画像を読み込む\n",
        "image = cv2.imdecode(np.frombuffer(uploaded[image_filename], np.uint8), -1)\n",
        "\n",
        "# 画像をグレースケールに変換\n",
        "gray_image = cv2.cvtColor(image, cv2.COLOR_BGR2GRAY)\n",
        "\n",
        "# 使いたい文字を入力するフォームを表示\n",
        "char_input = widgets.Text(\n",
        "    value = '',\n",
        "    placeholder = 'Enter characters',\n",
        "    description = 'Characters:',\n",
        "    disabled = False\n",
        ")\n",
        "display(char_input)\n",
        "\n",
        "# 濃淡に応じた文字列を取得する関数\n",
        "def intensity_to_char(intensity, chars):\n",
        "    index = int(intensity / 255 * (len(chars) - 1))\n",
        "    return chars[index]\n",
        "\n",
        "def generate_ascii_image(gray_image, chars):\n",
        "    # イラスト化した文字画像を生成\n",
        "    ascii_image = \"\"\n",
        "    for i in range(gray_image.shape[0]):\n",
        "        for j in range(gray_image.shape[1]):\n",
        "            intensity = gray_image[i, j]\n",
        "            ascii_image += intensity_to_char(intensity, chars)\n",
        "        ascii_image += \"\\n\"\n",
        "    return ascii_image\n",
        "\n",
        "def on_button_clicked(b):\n",
        "    chars = char_input.value\n",
        "\n",
        "    # 文字列が空でないことを確認\n",
        "    if chars:\n",
        "        # グレースケール画像を元にイラスト化した文字画像を生成\n",
        "        ascii_image_text = generate_ascii_image(gray_image, chars)\n",
        "\n",
        "        # 生成されたテキストデータから画像を作成\n",
        "        font = ImageFont.load_default()\n",
        "        text_width, text_height = font.getsize(\"X\")\n",
        "        img_width = gray_image.shape[1] * text_width\n",
        "        img_height = gray_image.shape[0] * text_height\n",
        "        img = Image.new(\"RGB\", (img_width, img_height), color=(255, 255, 255))\n",
        "        draw = ImageDraw.Draw(img)\n",
        "        draw.text((0, 0), ascii_image_text, fill=(0, 0, 0), font=font)\n",
        "\n",
        "        # 画像を表示\n",
        "        display(img)\n",
        "    else:\n",
        "        print(\"Please enter characters.\")\n",
        "\n",
        "# 決定ボタンの作成\n",
        "button = widgets.Button(description=\"決定\")\n",
        "button.on_click(on_button_clicked)\n",
        "display(button)"
      ],
      "metadata": {
        "id": "-xZs4mgvWzoO"
      },
      "execution_count": null,
      "outputs": []
    }
  ]
}